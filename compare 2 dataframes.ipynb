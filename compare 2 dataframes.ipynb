{
 "cells": [
  {
   "cell_type": "code",
   "execution_count": 1,
   "metadata": {},
   "outputs": [],
   "source": [
    "# Compare 2 Dataframes based on id and extract unique rows:\n",
    "# unique rows are that have unique id, or duplicate id but difference in date is more than 2 days\n",
    "# these are data generated from 2 diff systems"
   ]
  },
  {
   "cell_type": "code",
   "execution_count": 2,
   "metadata": {},
   "outputs": [],
   "source": [
    "import pandas as pd\n",
    "from datetime import timedelta\n",
    "import numpy as np"
   ]
  },
  {
   "cell_type": "code",
   "execution_count": 3,
   "metadata": {},
   "outputs": [],
   "source": [
    "#importing and cleaning\n",
    "file1 = pd.read_excel('file 1 - d.xlsx')\n",
    "file2 = pd.read_excel('file 2 - db.xlsx')\n",
    "df1 = file1#[['Compare 1','Compare 2']]\n",
    "df2 = file2#[['Compare 1', 'Compare 2']]\n",
    "df1['Compare 2'] = pd.to_datetime(df1['Compare 2'].astype(str), errors='coerce')\n",
    "df2['Compare 2'] = pd.to_datetime(df2['Compare 2'])\n",
    "df1['Compare 1'] = df1['Compare 1'].astype(int)\n",
    "df2['Compare 1'] = df2['Compare 1'].astype(int)"
   ]
  },
  {
   "cell_type": "code",
   "execution_count": 4,
   "metadata": {},
   "outputs": [],
   "source": [
    "# merging and extracting\n",
    "\n",
    "# merge dfs\n",
    "dfmrg = df1.merge(df2, on='Compare 1', how='outer',indicator=True)\n",
    "dfmrg['value'] = abs(dfmrg['Compare 2_x'] - dfmrg['Compare 2_y']) > timedelta(days=2)\n",
    "\n",
    "dfmrggrp = dfmrg.groupby('Compare 1', as_index=False)\n",
    "\n",
    "#delete non unique\n",
    "for name, group in dfmrggrp:\n",
    "    group = group.groupby('Compare 2_x', as_index=False)\n",
    "    for nama, groupa in group:\n",
    "        if not (groupa['value'].sum() > 0):\n",
    "            del groupa\n",
    "\n",
    "#converting groupby object to df, I'm not sure about this I just invented it now! :)\n",
    "predf = dfmrggrp.fillna(np.nan)\n",
    "\n",
    "# extracting uniq. rows that belong to first df\n",
    "predf1 = predf[['Site', 'Compare 1', 'Admit Date', 'Disch Date', 'Compare 2_x',\n",
    "       'Care Unit Disch Time', 'ICU Admit Time', 'ICU Discharge Time','_merge']][predf['_merge']!='right_only']\n",
    "\n",
    "# extracting uniq. rows that belong to second df\n",
    "predf2 = predf[['First ICU Admission Location In NS', 'Compare 1', 'Admission Date',\n",
    "       'Hospital Discharge Date', 'Compare 2_y', 'Discharge Date']][predf['_merge']!='left_only']\n",
    "\n",
    "#fdf = predf.append(dfmrg[dfmrg._merge != 'both']) >> this seems nothing :)\n",
    "\n",
    "#exporting\n",
    "predf1.to_excel('file1_edited.xlsx',merge_cells=False)\n",
    "predf2.to_excel('file2_edited.xlsx',merge_cells=False)\n",
    "#if premission denied that means there's a file with same name or things like that"
   ]
  },
  {
   "cell_type": "code",
   "execution_count": null,
   "metadata": {},
   "outputs": [],
   "source": []
  }
 ],
 "metadata": {
  "kernelspec": {
   "display_name": "Python 3",
   "language": "python",
   "name": "python3"
  },
  "language_info": {
   "codemirror_mode": {
    "name": "ipython",
    "version": 3
   },
   "file_extension": ".py",
   "mimetype": "text/x-python",
   "name": "python",
   "nbconvert_exporter": "python",
   "pygments_lexer": "ipython3",
   "version": "3.6.5"
  }
 },
 "nbformat": 4,
 "nbformat_minor": 2
}
